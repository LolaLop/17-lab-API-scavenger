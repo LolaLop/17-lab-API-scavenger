{
 "cells": [
  {
   "cell_type": "markdown",
   "metadata": {},
   "source": [
    "Import libraries"
   ]
  },
  {
   "cell_type": "code",
   "execution_count": 2,
   "metadata": {
    "ExecuteTime": {
     "end_time": "2020-08-01T09:52:27.657978Z",
     "start_time": "2020-08-01T09:52:27.041601Z"
    }
   },
   "outputs": [],
   "source": [
    "import requests\n",
    "import json\n",
    "import pandas as pd\n",
    "import numpy as np"
   ]
  },
  {
   "cell_type": "markdown",
   "metadata": {},
   "source": [
    "# General: to check how it works"
   ]
  },
  {
   "cell_type": "code",
   "execution_count": 6,
   "metadata": {
    "ExecuteTime": {
     "end_time": "2020-08-01T09:52:34.524687Z",
     "start_time": "2020-08-01T09:52:34.516078Z"
    }
   },
   "outputs": [],
   "source": [
    "# headers\n",
    "# For the User-Agent GitHub recommend to use our name\n",
    "headers = {'Authorization': 'token ' + token, 'User-Agent': 'LolaLop'}"
   ]
  },
  {
   "cell_type": "code",
   "execution_count": 7,
   "metadata": {
    "ExecuteTime": {
     "end_time": "2020-08-01T09:52:35.445606Z",
     "start_time": "2020-08-01T09:52:35.121384Z"
    }
   },
   "outputs": [
    {
     "name": "stdout",
     "output_type": "stream",
     "text": [
      "{'message': 'Bad credentials', 'documentation_url': 'https://developer.github.com/v3'}\n"
     ]
    }
   ],
   "source": [
    "# login\n",
    "login = requests.get('https://api.github.com/user', headers=headers)\n",
    "\n",
    "response = login.json()\n",
    "print(response)"
   ]
  },
  {
   "cell_type": "code",
   "execution_count": 8,
   "metadata": {
    "ExecuteTime": {
     "end_time": "2020-08-01T09:52:36.078228Z",
     "start_time": "2020-08-01T09:52:36.041576Z"
    }
   },
   "outputs": [
    {
     "ename": "KeyError",
     "evalue": "'repos_url'",
     "output_type": "error",
     "traceback": [
      "\u001b[0;31m---------------------------------------------------------------------------\u001b[0m",
      "\u001b[0;31mKeyError\u001b[0m                                  Traceback (most recent call last)",
      "\u001b[0;32m<ipython-input-8-7f70a0380f65>\u001b[0m in \u001b[0;36m<module>\u001b[0;34m\u001b[0m\n\u001b[0;32m----> 1\u001b[0;31m \u001b[0mrepos\u001b[0m \u001b[0;34m=\u001b[0m \u001b[0mrequests\u001b[0m\u001b[0;34m.\u001b[0m\u001b[0mget\u001b[0m\u001b[0;34m(\u001b[0m\u001b[0mresponse\u001b[0m\u001b[0;34m[\u001b[0m\u001b[0;34m'repos_url'\u001b[0m\u001b[0;34m]\u001b[0m\u001b[0;34m)\u001b[0m\u001b[0;34m.\u001b[0m\u001b[0mjson\u001b[0m\u001b[0;34m(\u001b[0m\u001b[0;34m)\u001b[0m\u001b[0;34m\u001b[0m\u001b[0;34m\u001b[0m\u001b[0m\n\u001b[0m",
      "\u001b[0;31mKeyError\u001b[0m: 'repos_url'"
     ]
    }
   ],
   "source": [
    "repos = requests.get(response['repos_url']).json()"
   ]
  },
  {
   "cell_type": "code",
   "execution_count": 6,
   "metadata": {
    "ExecuteTime": {
     "end_time": "2020-08-01T09:50:11.507151Z",
     "start_time": "2020-08-01T09:50:11.405826Z"
    }
   },
   "outputs": [
    {
     "data": {
      "text/html": [
       "<div>\n",
       "<style scoped>\n",
       "    .dataframe tbody tr th:only-of-type {\n",
       "        vertical-align: middle;\n",
       "    }\n",
       "\n",
       "    .dataframe tbody tr th {\n",
       "        vertical-align: top;\n",
       "    }\n",
       "\n",
       "    .dataframe thead th {\n",
       "        text-align: right;\n",
       "    }\n",
       "</style>\n",
       "<table border=\"1\" class=\"dataframe\">\n",
       "  <thead>\n",
       "    <tr style=\"text-align: right;\">\n",
       "      <th></th>\n",
       "      <th>id</th>\n",
       "      <th>node_id</th>\n",
       "      <th>name</th>\n",
       "      <th>full_name</th>\n",
       "      <th>private</th>\n",
       "      <th>owner</th>\n",
       "      <th>html_url</th>\n",
       "      <th>description</th>\n",
       "      <th>fork</th>\n",
       "      <th>url</th>\n",
       "      <th>...</th>\n",
       "      <th>forks_count</th>\n",
       "      <th>mirror_url</th>\n",
       "      <th>archived</th>\n",
       "      <th>disabled</th>\n",
       "      <th>open_issues_count</th>\n",
       "      <th>license</th>\n",
       "      <th>forks</th>\n",
       "      <th>open_issues</th>\n",
       "      <th>watchers</th>\n",
       "      <th>default_branch</th>\n",
       "    </tr>\n",
       "  </thead>\n",
       "  <tbody>\n",
       "    <tr>\n",
       "      <th>0</th>\n",
       "      <td>273698500</td>\n",
       "      <td>MDEwOlJlcG9zaXRvcnkyNzM2OTg1MDA=</td>\n",
       "      <td>01-lab-list-comprehensions</td>\n",
       "      <td>LolaLop/01-lab-list-comprehensions</td>\n",
       "      <td>False</td>\n",
       "      <td>{'login': 'LolaLop', 'id': 65811292, 'node_id'...</td>\n",
       "      <td>https://github.com/LolaLop/01-lab-list-compreh...</td>\n",
       "      <td>None</td>\n",
       "      <td>True</td>\n",
       "      <td>https://api.github.com/repos/LolaLop/01-lab-li...</td>\n",
       "      <td>...</td>\n",
       "      <td>0</td>\n",
       "      <td>None</td>\n",
       "      <td>False</td>\n",
       "      <td>False</td>\n",
       "      <td>0</td>\n",
       "      <td>None</td>\n",
       "      <td>0</td>\n",
       "      <td>0</td>\n",
       "      <td>0</td>\n",
       "      <td>master</td>\n",
       "    </tr>\n",
       "    <tr>\n",
       "      <th>1</th>\n",
       "      <td>273698789</td>\n",
       "      <td>MDEwOlJlcG9zaXRvcnkyNzM2OTg3ODk=</td>\n",
       "      <td>02-lab-tuple-set-dict</td>\n",
       "      <td>LolaLop/02-lab-tuple-set-dict</td>\n",
       "      <td>False</td>\n",
       "      <td>{'login': 'LolaLop', 'id': 65811292, 'node_id'...</td>\n",
       "      <td>https://github.com/LolaLop/02-lab-tuple-set-dict</td>\n",
       "      <td>None</td>\n",
       "      <td>True</td>\n",
       "      <td>https://api.github.com/repos/LolaLop/02-lab-tu...</td>\n",
       "      <td>...</td>\n",
       "      <td>0</td>\n",
       "      <td>None</td>\n",
       "      <td>False</td>\n",
       "      <td>False</td>\n",
       "      <td>0</td>\n",
       "      <td>None</td>\n",
       "      <td>0</td>\n",
       "      <td>0</td>\n",
       "      <td>0</td>\n",
       "      <td>master</td>\n",
       "    </tr>\n",
       "    <tr>\n",
       "      <th>2</th>\n",
       "      <td>274497953</td>\n",
       "      <td>MDEwOlJlcG9zaXRvcnkyNzQ0OTc5NTM=</td>\n",
       "      <td>03-lab-lambda-functions</td>\n",
       "      <td>LolaLop/03-lab-lambda-functions</td>\n",
       "      <td>False</td>\n",
       "      <td>{'login': 'LolaLop', 'id': 65811292, 'node_id'...</td>\n",
       "      <td>https://github.com/LolaLop/03-lab-lambda-funct...</td>\n",
       "      <td>None</td>\n",
       "      <td>True</td>\n",
       "      <td>https://api.github.com/repos/LolaLop/03-lab-la...</td>\n",
       "      <td>...</td>\n",
       "      <td>0</td>\n",
       "      <td>None</td>\n",
       "      <td>False</td>\n",
       "      <td>False</td>\n",
       "      <td>0</td>\n",
       "      <td>None</td>\n",
       "      <td>0</td>\n",
       "      <td>0</td>\n",
       "      <td>0</td>\n",
       "      <td>master</td>\n",
       "    </tr>\n",
       "    <tr>\n",
       "      <th>3</th>\n",
       "      <td>274957770</td>\n",
       "      <td>MDEwOlJlcG9zaXRvcnkyNzQ5NTc3NzA=</td>\n",
       "      <td>04-lab-functional-programming</td>\n",
       "      <td>LolaLop/04-lab-functional-programming</td>\n",
       "      <td>False</td>\n",
       "      <td>{'login': 'LolaLop', 'id': 65811292, 'node_id'...</td>\n",
       "      <td>https://github.com/LolaLop/04-lab-functional-p...</td>\n",
       "      <td>None</td>\n",
       "      <td>True</td>\n",
       "      <td>https://api.github.com/repos/LolaLop/04-lab-fu...</td>\n",
       "      <td>...</td>\n",
       "      <td>0</td>\n",
       "      <td>None</td>\n",
       "      <td>False</td>\n",
       "      <td>False</td>\n",
       "      <td>0</td>\n",
       "      <td>None</td>\n",
       "      <td>0</td>\n",
       "      <td>0</td>\n",
       "      <td>0</td>\n",
       "      <td>master</td>\n",
       "    </tr>\n",
       "    <tr>\n",
       "      <th>4</th>\n",
       "      <td>275245352</td>\n",
       "      <td>MDEwOlJlcG9zaXRvcnkyNzUyNDUzNTI=</td>\n",
       "      <td>05-lab-object-oriented-programming</td>\n",
       "      <td>LolaLop/05-lab-object-oriented-programming</td>\n",
       "      <td>False</td>\n",
       "      <td>{'login': 'LolaLop', 'id': 65811292, 'node_id'...</td>\n",
       "      <td>https://github.com/LolaLop/05-lab-object-orien...</td>\n",
       "      <td>None</td>\n",
       "      <td>True</td>\n",
       "      <td>https://api.github.com/repos/LolaLop/05-lab-ob...</td>\n",
       "      <td>...</td>\n",
       "      <td>0</td>\n",
       "      <td>None</td>\n",
       "      <td>False</td>\n",
       "      <td>False</td>\n",
       "      <td>0</td>\n",
       "      <td>None</td>\n",
       "      <td>0</td>\n",
       "      <td>0</td>\n",
       "      <td>0</td>\n",
       "      <td>master</td>\n",
       "    </tr>\n",
       "  </tbody>\n",
       "</table>\n",
       "<p>5 rows × 73 columns</p>\n",
       "</div>"
      ],
      "text/plain": [
       "          id                           node_id  \\\n",
       "0  273698500  MDEwOlJlcG9zaXRvcnkyNzM2OTg1MDA=   \n",
       "1  273698789  MDEwOlJlcG9zaXRvcnkyNzM2OTg3ODk=   \n",
       "2  274497953  MDEwOlJlcG9zaXRvcnkyNzQ0OTc5NTM=   \n",
       "3  274957770  MDEwOlJlcG9zaXRvcnkyNzQ5NTc3NzA=   \n",
       "4  275245352  MDEwOlJlcG9zaXRvcnkyNzUyNDUzNTI=   \n",
       "\n",
       "                                 name  \\\n",
       "0          01-lab-list-comprehensions   \n",
       "1               02-lab-tuple-set-dict   \n",
       "2             03-lab-lambda-functions   \n",
       "3       04-lab-functional-programming   \n",
       "4  05-lab-object-oriented-programming   \n",
       "\n",
       "                                    full_name  private  \\\n",
       "0          LolaLop/01-lab-list-comprehensions    False   \n",
       "1               LolaLop/02-lab-tuple-set-dict    False   \n",
       "2             LolaLop/03-lab-lambda-functions    False   \n",
       "3       LolaLop/04-lab-functional-programming    False   \n",
       "4  LolaLop/05-lab-object-oriented-programming    False   \n",
       "\n",
       "                                               owner  \\\n",
       "0  {'login': 'LolaLop', 'id': 65811292, 'node_id'...   \n",
       "1  {'login': 'LolaLop', 'id': 65811292, 'node_id'...   \n",
       "2  {'login': 'LolaLop', 'id': 65811292, 'node_id'...   \n",
       "3  {'login': 'LolaLop', 'id': 65811292, 'node_id'...   \n",
       "4  {'login': 'LolaLop', 'id': 65811292, 'node_id'...   \n",
       "\n",
       "                                            html_url description  fork  \\\n",
       "0  https://github.com/LolaLop/01-lab-list-compreh...        None  True   \n",
       "1   https://github.com/LolaLop/02-lab-tuple-set-dict        None  True   \n",
       "2  https://github.com/LolaLop/03-lab-lambda-funct...        None  True   \n",
       "3  https://github.com/LolaLop/04-lab-functional-p...        None  True   \n",
       "4  https://github.com/LolaLop/05-lab-object-orien...        None  True   \n",
       "\n",
       "                                                 url  ... forks_count  \\\n",
       "0  https://api.github.com/repos/LolaLop/01-lab-li...  ...           0   \n",
       "1  https://api.github.com/repos/LolaLop/02-lab-tu...  ...           0   \n",
       "2  https://api.github.com/repos/LolaLop/03-lab-la...  ...           0   \n",
       "3  https://api.github.com/repos/LolaLop/04-lab-fu...  ...           0   \n",
       "4  https://api.github.com/repos/LolaLop/05-lab-ob...  ...           0   \n",
       "\n",
       "  mirror_url archived disabled open_issues_count license forks open_issues  \\\n",
       "0       None    False    False                 0    None     0           0   \n",
       "1       None    False    False                 0    None     0           0   \n",
       "2       None    False    False                 0    None     0           0   \n",
       "3       None    False    False                 0    None     0           0   \n",
       "4       None    False    False                 0    None     0           0   \n",
       "\n",
       "  watchers default_branch  \n",
       "0        0         master  \n",
       "1        0         master  \n",
       "2        0         master  \n",
       "3        0         master  \n",
       "4        0         master  \n",
       "\n",
       "[5 rows x 73 columns]"
      ]
     },
     "execution_count": 6,
     "metadata": {},
     "output_type": "execute_result"
    }
   ],
   "source": [
    "repos = pd.DataFrame(repos)\n",
    "repos.head()"
   ]
  },
  {
   "cell_type": "markdown",
   "metadata": {},
   "source": [
    "# Challenge 1: Fork Languages"
   ]
  },
  {
   "cell_type": "markdown",
   "metadata": {},
   "source": [
    "## Obtain the full list of forks created from the main lab repo via Github API"
   ]
  },
  {
   "cell_type": "code",
   "execution_count": 7,
   "metadata": {
    "ExecuteTime": {
     "end_time": "2020-08-01T09:50:13.470726Z",
     "start_time": "2020-08-01T09:50:13.454275Z"
    }
   },
   "outputs": [],
   "source": [
    "# Function to get the fork information from each page\n",
    "# headers contain the token for login\n",
    "\n",
    "def get_fork(headers):\n",
    "    \n",
    "    # Parameters to modify for other repos\n",
    "    user = 'ironhack-bcn-data-june-2020'\n",
    "    repo = '17-lab-API-scavenger'\n",
    "    \n",
    "    # Page counter\n",
    "    page = 0\n",
    "    \n",
    "    # Output list containing all the information\n",
    "    output = []\n",
    "    \n",
    "    while True:\n",
    "        \n",
    "        request = f'https://api.github.com/repos/{user}/{repo}/forks?page={page}'\n",
    "        r = requests.get(request, headers=headers)\n",
    "        fork = r.json()\n",
    "\n",
    "        # check if fork is empty or not\n",
    "        if len(fork)== 0:\n",
    "            break\n",
    "        \n",
    "        if page == 0:\n",
    "            # Append the information to the output\n",
    "            df = pd.json_normalize(fork)\n",
    "        else:\n",
    "            # Append the information to the output\n",
    "            df_aux = pd.json_normalize(fork)\n",
    "            df = pd.concat([df, df_aux], ignore_index=True)\n",
    "        \n",
    "        page += 1\n",
    "        \n",
    "    return df"
   ]
  },
  {
   "cell_type": "code",
   "execution_count": 8,
   "metadata": {
    "ExecuteTime": {
     "end_time": "2020-08-01T09:50:15.559382Z",
     "start_time": "2020-08-01T09:50:14.432551Z"
    }
   },
   "outputs": [],
   "source": [
    "output_fork = get_fork(headers)"
   ]
  },
  {
   "cell_type": "code",
   "execution_count": 9,
   "metadata": {
    "ExecuteTime": {
     "end_time": "2020-08-01T09:50:15.764179Z",
     "start_time": "2020-08-01T09:50:15.691725Z"
    }
   },
   "outputs": [
    {
     "data": {
      "text/html": [
       "<div>\n",
       "<style scoped>\n",
       "    .dataframe tbody tr th:only-of-type {\n",
       "        vertical-align: middle;\n",
       "    }\n",
       "\n",
       "    .dataframe tbody tr th {\n",
       "        vertical-align: top;\n",
       "    }\n",
       "\n",
       "    .dataframe thead th {\n",
       "        text-align: right;\n",
       "    }\n",
       "</style>\n",
       "<table border=\"1\" class=\"dataframe\">\n",
       "  <thead>\n",
       "    <tr style=\"text-align: right;\">\n",
       "      <th></th>\n",
       "      <th>id</th>\n",
       "      <th>node_id</th>\n",
       "      <th>name</th>\n",
       "      <th>full_name</th>\n",
       "      <th>private</th>\n",
       "      <th>html_url</th>\n",
       "      <th>description</th>\n",
       "      <th>fork</th>\n",
       "      <th>url</th>\n",
       "      <th>forks_url</th>\n",
       "      <th>...</th>\n",
       "      <th>owner.subscriptions_url</th>\n",
       "      <th>owner.organizations_url</th>\n",
       "      <th>owner.repos_url</th>\n",
       "      <th>owner.events_url</th>\n",
       "      <th>owner.received_events_url</th>\n",
       "      <th>owner.type</th>\n",
       "      <th>owner.site_admin</th>\n",
       "      <th>permissions.admin</th>\n",
       "      <th>permissions.push</th>\n",
       "      <th>permissions.pull</th>\n",
       "    </tr>\n",
       "  </thead>\n",
       "  <tbody>\n",
       "    <tr>\n",
       "      <th>0</th>\n",
       "      <td>283722390</td>\n",
       "      <td>MDEwOlJlcG9zaXRvcnkyODM3MjIzOTA=</td>\n",
       "      <td>17-lab-API-scavenger</td>\n",
       "      <td>victortg1988/17-lab-API-scavenger</td>\n",
       "      <td>False</td>\n",
       "      <td>https://github.com/victortg1988/17-lab-API-sca...</td>\n",
       "      <td>None</td>\n",
       "      <td>True</td>\n",
       "      <td>https://api.github.com/repos/victortg1988/17-l...</td>\n",
       "      <td>https://api.github.com/repos/victortg1988/17-l...</td>\n",
       "      <td>...</td>\n",
       "      <td>https://api.github.com/users/victortg1988/subs...</td>\n",
       "      <td>https://api.github.com/users/victortg1988/orgs</td>\n",
       "      <td>https://api.github.com/users/victortg1988/repos</td>\n",
       "      <td>https://api.github.com/users/victortg1988/even...</td>\n",
       "      <td>https://api.github.com/users/victortg1988/rece...</td>\n",
       "      <td>User</td>\n",
       "      <td>False</td>\n",
       "      <td>False</td>\n",
       "      <td>False</td>\n",
       "      <td>True</td>\n",
       "    </tr>\n",
       "    <tr>\n",
       "      <th>1</th>\n",
       "      <td>283298759</td>\n",
       "      <td>MDEwOlJlcG9zaXRvcnkyODMyOTg3NTk=</td>\n",
       "      <td>17-lab-API-scavenger</td>\n",
       "      <td>cucu-o0/17-lab-API-scavenger</td>\n",
       "      <td>False</td>\n",
       "      <td>https://github.com/cucu-o0/17-lab-API-scavenger</td>\n",
       "      <td>None</td>\n",
       "      <td>True</td>\n",
       "      <td>https://api.github.com/repos/cucu-o0/17-lab-AP...</td>\n",
       "      <td>https://api.github.com/repos/cucu-o0/17-lab-AP...</td>\n",
       "      <td>...</td>\n",
       "      <td>https://api.github.com/users/cucu-o0/subscript...</td>\n",
       "      <td>https://api.github.com/users/cucu-o0/orgs</td>\n",
       "      <td>https://api.github.com/users/cucu-o0/repos</td>\n",
       "      <td>https://api.github.com/users/cucu-o0/events{/p...</td>\n",
       "      <td>https://api.github.com/users/cucu-o0/received_...</td>\n",
       "      <td>User</td>\n",
       "      <td>False</td>\n",
       "      <td>False</td>\n",
       "      <td>False</td>\n",
       "      <td>True</td>\n",
       "    </tr>\n",
       "    <tr>\n",
       "      <th>2</th>\n",
       "      <td>283295824</td>\n",
       "      <td>MDEwOlJlcG9zaXRvcnkyODMyOTU4MjQ=</td>\n",
       "      <td>17-lab-API-scavenger</td>\n",
       "      <td>LolaLop/17-lab-API-scavenger</td>\n",
       "      <td>False</td>\n",
       "      <td>https://github.com/LolaLop/17-lab-API-scavenger</td>\n",
       "      <td>None</td>\n",
       "      <td>True</td>\n",
       "      <td>https://api.github.com/repos/LolaLop/17-lab-AP...</td>\n",
       "      <td>https://api.github.com/repos/LolaLop/17-lab-AP...</td>\n",
       "      <td>...</td>\n",
       "      <td>https://api.github.com/users/LolaLop/subscript...</td>\n",
       "      <td>https://api.github.com/users/LolaLop/orgs</td>\n",
       "      <td>https://api.github.com/users/LolaLop/repos</td>\n",
       "      <td>https://api.github.com/users/LolaLop/events{/p...</td>\n",
       "      <td>https://api.github.com/users/LolaLop/received_...</td>\n",
       "      <td>User</td>\n",
       "      <td>False</td>\n",
       "      <td>True</td>\n",
       "      <td>True</td>\n",
       "      <td>True</td>\n",
       "    </tr>\n",
       "    <tr>\n",
       "      <th>3</th>\n",
       "      <td>283167299</td>\n",
       "      <td>MDEwOlJlcG9zaXRvcnkyODMxNjcyOTk=</td>\n",
       "      <td>17-lab-API-scavenger</td>\n",
       "      <td>AnnaVilardell/17-lab-API-scavenger</td>\n",
       "      <td>False</td>\n",
       "      <td>https://github.com/AnnaVilardell/17-lab-API-sc...</td>\n",
       "      <td>None</td>\n",
       "      <td>True</td>\n",
       "      <td>https://api.github.com/repos/AnnaVilardell/17-...</td>\n",
       "      <td>https://api.github.com/repos/AnnaVilardell/17-...</td>\n",
       "      <td>...</td>\n",
       "      <td>https://api.github.com/users/AnnaVilardell/sub...</td>\n",
       "      <td>https://api.github.com/users/AnnaVilardell/orgs</td>\n",
       "      <td>https://api.github.com/users/AnnaVilardell/repos</td>\n",
       "      <td>https://api.github.com/users/AnnaVilardell/eve...</td>\n",
       "      <td>https://api.github.com/users/AnnaVilardell/rec...</td>\n",
       "      <td>User</td>\n",
       "      <td>False</td>\n",
       "      <td>False</td>\n",
       "      <td>False</td>\n",
       "      <td>True</td>\n",
       "    </tr>\n",
       "    <tr>\n",
       "      <th>4</th>\n",
       "      <td>283722390</td>\n",
       "      <td>MDEwOlJlcG9zaXRvcnkyODM3MjIzOTA=</td>\n",
       "      <td>17-lab-API-scavenger</td>\n",
       "      <td>victortg1988/17-lab-API-scavenger</td>\n",
       "      <td>False</td>\n",
       "      <td>https://github.com/victortg1988/17-lab-API-sca...</td>\n",
       "      <td>None</td>\n",
       "      <td>True</td>\n",
       "      <td>https://api.github.com/repos/victortg1988/17-l...</td>\n",
       "      <td>https://api.github.com/repos/victortg1988/17-l...</td>\n",
       "      <td>...</td>\n",
       "      <td>https://api.github.com/users/victortg1988/subs...</td>\n",
       "      <td>https://api.github.com/users/victortg1988/orgs</td>\n",
       "      <td>https://api.github.com/users/victortg1988/repos</td>\n",
       "      <td>https://api.github.com/users/victortg1988/even...</td>\n",
       "      <td>https://api.github.com/users/victortg1988/rece...</td>\n",
       "      <td>User</td>\n",
       "      <td>False</td>\n",
       "      <td>False</td>\n",
       "      <td>False</td>\n",
       "      <td>True</td>\n",
       "    </tr>\n",
       "    <tr>\n",
       "      <th>5</th>\n",
       "      <td>283298759</td>\n",
       "      <td>MDEwOlJlcG9zaXRvcnkyODMyOTg3NTk=</td>\n",
       "      <td>17-lab-API-scavenger</td>\n",
       "      <td>cucu-o0/17-lab-API-scavenger</td>\n",
       "      <td>False</td>\n",
       "      <td>https://github.com/cucu-o0/17-lab-API-scavenger</td>\n",
       "      <td>None</td>\n",
       "      <td>True</td>\n",
       "      <td>https://api.github.com/repos/cucu-o0/17-lab-AP...</td>\n",
       "      <td>https://api.github.com/repos/cucu-o0/17-lab-AP...</td>\n",
       "      <td>...</td>\n",
       "      <td>https://api.github.com/users/cucu-o0/subscript...</td>\n",
       "      <td>https://api.github.com/users/cucu-o0/orgs</td>\n",
       "      <td>https://api.github.com/users/cucu-o0/repos</td>\n",
       "      <td>https://api.github.com/users/cucu-o0/events{/p...</td>\n",
       "      <td>https://api.github.com/users/cucu-o0/received_...</td>\n",
       "      <td>User</td>\n",
       "      <td>False</td>\n",
       "      <td>False</td>\n",
       "      <td>False</td>\n",
       "      <td>True</td>\n",
       "    </tr>\n",
       "    <tr>\n",
       "      <th>6</th>\n",
       "      <td>283295824</td>\n",
       "      <td>MDEwOlJlcG9zaXRvcnkyODMyOTU4MjQ=</td>\n",
       "      <td>17-lab-API-scavenger</td>\n",
       "      <td>LolaLop/17-lab-API-scavenger</td>\n",
       "      <td>False</td>\n",
       "      <td>https://github.com/LolaLop/17-lab-API-scavenger</td>\n",
       "      <td>None</td>\n",
       "      <td>True</td>\n",
       "      <td>https://api.github.com/repos/LolaLop/17-lab-AP...</td>\n",
       "      <td>https://api.github.com/repos/LolaLop/17-lab-AP...</td>\n",
       "      <td>...</td>\n",
       "      <td>https://api.github.com/users/LolaLop/subscript...</td>\n",
       "      <td>https://api.github.com/users/LolaLop/orgs</td>\n",
       "      <td>https://api.github.com/users/LolaLop/repos</td>\n",
       "      <td>https://api.github.com/users/LolaLop/events{/p...</td>\n",
       "      <td>https://api.github.com/users/LolaLop/received_...</td>\n",
       "      <td>User</td>\n",
       "      <td>False</td>\n",
       "      <td>True</td>\n",
       "      <td>True</td>\n",
       "      <td>True</td>\n",
       "    </tr>\n",
       "    <tr>\n",
       "      <th>7</th>\n",
       "      <td>283167299</td>\n",
       "      <td>MDEwOlJlcG9zaXRvcnkyODMxNjcyOTk=</td>\n",
       "      <td>17-lab-API-scavenger</td>\n",
       "      <td>AnnaVilardell/17-lab-API-scavenger</td>\n",
       "      <td>False</td>\n",
       "      <td>https://github.com/AnnaVilardell/17-lab-API-sc...</td>\n",
       "      <td>None</td>\n",
       "      <td>True</td>\n",
       "      <td>https://api.github.com/repos/AnnaVilardell/17-...</td>\n",
       "      <td>https://api.github.com/repos/AnnaVilardell/17-...</td>\n",
       "      <td>...</td>\n",
       "      <td>https://api.github.com/users/AnnaVilardell/sub...</td>\n",
       "      <td>https://api.github.com/users/AnnaVilardell/orgs</td>\n",
       "      <td>https://api.github.com/users/AnnaVilardell/repos</td>\n",
       "      <td>https://api.github.com/users/AnnaVilardell/eve...</td>\n",
       "      <td>https://api.github.com/users/AnnaVilardell/rec...</td>\n",
       "      <td>User</td>\n",
       "      <td>False</td>\n",
       "      <td>False</td>\n",
       "      <td>False</td>\n",
       "      <td>True</td>\n",
       "    </tr>\n",
       "  </tbody>\n",
       "</table>\n",
       "<p>8 rows × 93 columns</p>\n",
       "</div>"
      ],
      "text/plain": [
       "          id                           node_id                  name  \\\n",
       "0  283722390  MDEwOlJlcG9zaXRvcnkyODM3MjIzOTA=  17-lab-API-scavenger   \n",
       "1  283298759  MDEwOlJlcG9zaXRvcnkyODMyOTg3NTk=  17-lab-API-scavenger   \n",
       "2  283295824  MDEwOlJlcG9zaXRvcnkyODMyOTU4MjQ=  17-lab-API-scavenger   \n",
       "3  283167299  MDEwOlJlcG9zaXRvcnkyODMxNjcyOTk=  17-lab-API-scavenger   \n",
       "4  283722390  MDEwOlJlcG9zaXRvcnkyODM3MjIzOTA=  17-lab-API-scavenger   \n",
       "5  283298759  MDEwOlJlcG9zaXRvcnkyODMyOTg3NTk=  17-lab-API-scavenger   \n",
       "6  283295824  MDEwOlJlcG9zaXRvcnkyODMyOTU4MjQ=  17-lab-API-scavenger   \n",
       "7  283167299  MDEwOlJlcG9zaXRvcnkyODMxNjcyOTk=  17-lab-API-scavenger   \n",
       "\n",
       "                            full_name  private  \\\n",
       "0   victortg1988/17-lab-API-scavenger    False   \n",
       "1        cucu-o0/17-lab-API-scavenger    False   \n",
       "2        LolaLop/17-lab-API-scavenger    False   \n",
       "3  AnnaVilardell/17-lab-API-scavenger    False   \n",
       "4   victortg1988/17-lab-API-scavenger    False   \n",
       "5        cucu-o0/17-lab-API-scavenger    False   \n",
       "6        LolaLop/17-lab-API-scavenger    False   \n",
       "7  AnnaVilardell/17-lab-API-scavenger    False   \n",
       "\n",
       "                                            html_url description  fork  \\\n",
       "0  https://github.com/victortg1988/17-lab-API-sca...        None  True   \n",
       "1    https://github.com/cucu-o0/17-lab-API-scavenger        None  True   \n",
       "2    https://github.com/LolaLop/17-lab-API-scavenger        None  True   \n",
       "3  https://github.com/AnnaVilardell/17-lab-API-sc...        None  True   \n",
       "4  https://github.com/victortg1988/17-lab-API-sca...        None  True   \n",
       "5    https://github.com/cucu-o0/17-lab-API-scavenger        None  True   \n",
       "6    https://github.com/LolaLop/17-lab-API-scavenger        None  True   \n",
       "7  https://github.com/AnnaVilardell/17-lab-API-sc...        None  True   \n",
       "\n",
       "                                                 url  \\\n",
       "0  https://api.github.com/repos/victortg1988/17-l...   \n",
       "1  https://api.github.com/repos/cucu-o0/17-lab-AP...   \n",
       "2  https://api.github.com/repos/LolaLop/17-lab-AP...   \n",
       "3  https://api.github.com/repos/AnnaVilardell/17-...   \n",
       "4  https://api.github.com/repos/victortg1988/17-l...   \n",
       "5  https://api.github.com/repos/cucu-o0/17-lab-AP...   \n",
       "6  https://api.github.com/repos/LolaLop/17-lab-AP...   \n",
       "7  https://api.github.com/repos/AnnaVilardell/17-...   \n",
       "\n",
       "                                           forks_url  ...  \\\n",
       "0  https://api.github.com/repos/victortg1988/17-l...  ...   \n",
       "1  https://api.github.com/repos/cucu-o0/17-lab-AP...  ...   \n",
       "2  https://api.github.com/repos/LolaLop/17-lab-AP...  ...   \n",
       "3  https://api.github.com/repos/AnnaVilardell/17-...  ...   \n",
       "4  https://api.github.com/repos/victortg1988/17-l...  ...   \n",
       "5  https://api.github.com/repos/cucu-o0/17-lab-AP...  ...   \n",
       "6  https://api.github.com/repos/LolaLop/17-lab-AP...  ...   \n",
       "7  https://api.github.com/repos/AnnaVilardell/17-...  ...   \n",
       "\n",
       "                             owner.subscriptions_url  \\\n",
       "0  https://api.github.com/users/victortg1988/subs...   \n",
       "1  https://api.github.com/users/cucu-o0/subscript...   \n",
       "2  https://api.github.com/users/LolaLop/subscript...   \n",
       "3  https://api.github.com/users/AnnaVilardell/sub...   \n",
       "4  https://api.github.com/users/victortg1988/subs...   \n",
       "5  https://api.github.com/users/cucu-o0/subscript...   \n",
       "6  https://api.github.com/users/LolaLop/subscript...   \n",
       "7  https://api.github.com/users/AnnaVilardell/sub...   \n",
       "\n",
       "                           owner.organizations_url  \\\n",
       "0   https://api.github.com/users/victortg1988/orgs   \n",
       "1        https://api.github.com/users/cucu-o0/orgs   \n",
       "2        https://api.github.com/users/LolaLop/orgs   \n",
       "3  https://api.github.com/users/AnnaVilardell/orgs   \n",
       "4   https://api.github.com/users/victortg1988/orgs   \n",
       "5        https://api.github.com/users/cucu-o0/orgs   \n",
       "6        https://api.github.com/users/LolaLop/orgs   \n",
       "7  https://api.github.com/users/AnnaVilardell/orgs   \n",
       "\n",
       "                                    owner.repos_url  \\\n",
       "0   https://api.github.com/users/victortg1988/repos   \n",
       "1        https://api.github.com/users/cucu-o0/repos   \n",
       "2        https://api.github.com/users/LolaLop/repos   \n",
       "3  https://api.github.com/users/AnnaVilardell/repos   \n",
       "4   https://api.github.com/users/victortg1988/repos   \n",
       "5        https://api.github.com/users/cucu-o0/repos   \n",
       "6        https://api.github.com/users/LolaLop/repos   \n",
       "7  https://api.github.com/users/AnnaVilardell/repos   \n",
       "\n",
       "                                    owner.events_url  \\\n",
       "0  https://api.github.com/users/victortg1988/even...   \n",
       "1  https://api.github.com/users/cucu-o0/events{/p...   \n",
       "2  https://api.github.com/users/LolaLop/events{/p...   \n",
       "3  https://api.github.com/users/AnnaVilardell/eve...   \n",
       "4  https://api.github.com/users/victortg1988/even...   \n",
       "5  https://api.github.com/users/cucu-o0/events{/p...   \n",
       "6  https://api.github.com/users/LolaLop/events{/p...   \n",
       "7  https://api.github.com/users/AnnaVilardell/eve...   \n",
       "\n",
       "                           owner.received_events_url owner.type  \\\n",
       "0  https://api.github.com/users/victortg1988/rece...       User   \n",
       "1  https://api.github.com/users/cucu-o0/received_...       User   \n",
       "2  https://api.github.com/users/LolaLop/received_...       User   \n",
       "3  https://api.github.com/users/AnnaVilardell/rec...       User   \n",
       "4  https://api.github.com/users/victortg1988/rece...       User   \n",
       "5  https://api.github.com/users/cucu-o0/received_...       User   \n",
       "6  https://api.github.com/users/LolaLop/received_...       User   \n",
       "7  https://api.github.com/users/AnnaVilardell/rec...       User   \n",
       "\n",
       "  owner.site_admin permissions.admin permissions.push permissions.pull  \n",
       "0            False             False            False             True  \n",
       "1            False             False            False             True  \n",
       "2            False              True             True             True  \n",
       "3            False             False            False             True  \n",
       "4            False             False            False             True  \n",
       "5            False             False            False             True  \n",
       "6            False              True             True             True  \n",
       "7            False             False            False             True  \n",
       "\n",
       "[8 rows x 93 columns]"
      ]
     },
     "execution_count": 9,
     "metadata": {},
     "output_type": "execute_result"
    }
   ],
   "source": [
    "# DataFrame containing all the forks\n",
    "output_fork"
   ]
  },
  {
   "cell_type": "markdown",
   "metadata": {},
   "source": [
    "## Loop the JSON response to find out the language attribute of each fork. Use an array to store the language attributes of each fork."
   ]
  },
  {
   "cell_type": "code",
   "execution_count": 10,
   "metadata": {
    "ExecuteTime": {
     "end_time": "2020-08-01T09:50:18.923852Z",
     "start_time": "2020-08-01T09:50:18.898841Z"
    }
   },
   "outputs": [
    {
     "data": {
      "text/plain": [
       "Index(['id', 'node_id', 'name', 'full_name', 'private', 'html_url',\n",
       "       'description', 'fork', 'url', 'forks_url', 'keys_url',\n",
       "       'collaborators_url', 'teams_url', 'hooks_url', 'issue_events_url',\n",
       "       'events_url', 'assignees_url', 'branches_url', 'tags_url', 'blobs_url',\n",
       "       'git_tags_url', 'git_refs_url', 'trees_url', 'statuses_url',\n",
       "       'languages_url', 'stargazers_url', 'contributors_url',\n",
       "       'subscribers_url', 'subscription_url', 'commits_url', 'git_commits_url',\n",
       "       'comments_url', 'issue_comment_url', 'contents_url', 'compare_url',\n",
       "       'merges_url', 'archive_url', 'downloads_url', 'issues_url', 'pulls_url',\n",
       "       'milestones_url', 'notifications_url', 'labels_url', 'releases_url',\n",
       "       'deployments_url', 'created_at', 'updated_at', 'pushed_at', 'git_url',\n",
       "       'ssh_url', 'clone_url', 'svn_url', 'homepage', 'size',\n",
       "       'stargazers_count', 'watchers_count', 'language', 'has_issues',\n",
       "       'has_projects', 'has_downloads', 'has_wiki', 'has_pages', 'forks_count',\n",
       "       'mirror_url', 'archived', 'disabled', 'open_issues_count', 'license',\n",
       "       'forks', 'open_issues', 'watchers', 'default_branch', 'owner.login',\n",
       "       'owner.id', 'owner.node_id', 'owner.avatar_url', 'owner.gravatar_id',\n",
       "       'owner.url', 'owner.html_url', 'owner.followers_url',\n",
       "       'owner.following_url', 'owner.gists_url', 'owner.starred_url',\n",
       "       'owner.subscriptions_url', 'owner.organizations_url', 'owner.repos_url',\n",
       "       'owner.events_url', 'owner.received_events_url', 'owner.type',\n",
       "       'owner.site_admin', 'permissions.admin', 'permissions.push',\n",
       "       'permissions.pull'],\n",
       "      dtype='object')"
      ]
     },
     "execution_count": 10,
     "metadata": {},
     "output_type": "execute_result"
    }
   ],
   "source": [
    "output_fork.columns"
   ]
  },
  {
   "cell_type": "code",
   "execution_count": 11,
   "metadata": {
    "ExecuteTime": {
     "end_time": "2020-08-01T09:50:19.797378Z",
     "start_time": "2020-08-01T09:50:19.771263Z"
    }
   },
   "outputs": [
    {
     "data": {
      "text/plain": [
       "0    None\n",
       "1    None\n",
       "2    None\n",
       "3    None\n",
       "4    None\n",
       "5    None\n",
       "6    None\n",
       "7    None\n",
       "Name: language, dtype: object"
      ]
     },
     "execution_count": 11,
     "metadata": {},
     "output_type": "execute_result"
    }
   ],
   "source": [
    "output_fork['language']"
   ]
  },
  {
   "cell_type": "code",
   "execution_count": null,
   "metadata": {},
   "outputs": [],
   "source": []
  },
  {
   "cell_type": "code",
   "execution_count": null,
   "metadata": {},
   "outputs": [],
   "source": []
  },
  {
   "cell_type": "markdown",
   "metadata": {},
   "source": [
    "## Print the language array"
   ]
  },
  {
   "cell_type": "code",
   "execution_count": null,
   "metadata": {},
   "outputs": [],
   "source": []
  },
  {
   "cell_type": "markdown",
   "metadata": {},
   "source": [
    "# Challenge 2: Count Commits"
   ]
  },
  {
   "cell_type": "markdown",
   "metadata": {},
   "source": [
    "## Obtain all the commits made in the past week via API, which is a JSON array that contains multiple commit objects"
   ]
  },
  {
   "cell_type": "code",
   "execution_count": null,
   "metadata": {},
   "outputs": [],
   "source": []
  },
  {
   "cell_type": "code",
   "execution_count": null,
   "metadata": {},
   "outputs": [],
   "source": []
  },
  {
   "cell_type": "markdown",
   "metadata": {},
   "source": [
    "## Count how many commit objects are contained in the array"
   ]
  },
  {
   "cell_type": "code",
   "execution_count": null,
   "metadata": {},
   "outputs": [],
   "source": []
  },
  {
   "cell_type": "code",
   "execution_count": null,
   "metadata": {},
   "outputs": [],
   "source": []
  },
  {
   "cell_type": "markdown",
   "metadata": {},
   "source": [
    "# Challenge 3: Hidden Cold Joke"
   ]
  },
  {
   "cell_type": "code",
   "execution_count": null,
   "metadata": {},
   "outputs": [],
   "source": []
  }
 ],
 "metadata": {
  "kernelspec": {
   "display_name": "Python 3",
   "language": "python",
   "name": "python3"
  },
  "language_info": {
   "codemirror_mode": {
    "name": "ipython",
    "version": 3
   },
   "file_extension": ".py",
   "mimetype": "text/x-python",
   "name": "python",
   "nbconvert_exporter": "python",
   "pygments_lexer": "ipython3",
   "version": "3.7.6"
  },
  "toc": {
   "base_numbering": 1,
   "nav_menu": {},
   "number_sections": true,
   "sideBar": true,
   "skip_h1_title": false,
   "title_cell": "Table of Contents",
   "title_sidebar": "Contents",
   "toc_cell": false,
   "toc_position": {},
   "toc_section_display": true,
   "toc_window_display": false
  },
  "varInspector": {
   "cols": {
    "lenName": 16,
    "lenType": 16,
    "lenVar": 40
   },
   "kernels_config": {
    "python": {
     "delete_cmd_postfix": "",
     "delete_cmd_prefix": "del ",
     "library": "var_list.py",
     "varRefreshCmd": "print(var_dic_list())"
    },
    "r": {
     "delete_cmd_postfix": ") ",
     "delete_cmd_prefix": "rm(",
     "library": "var_list.r",
     "varRefreshCmd": "cat(var_dic_list()) "
    }
   },
   "types_to_exclude": [
    "module",
    "function",
    "builtin_function_or_method",
    "instance",
    "_Feature"
   ],
   "window_display": false
  }
 },
 "nbformat": 4,
 "nbformat_minor": 4
}
